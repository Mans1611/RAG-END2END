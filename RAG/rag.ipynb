{
 "cells": [
  {
   "cell_type": "code",
   "execution_count": null,
   "metadata": {},
   "outputs": [],
   "source": [
    "!unzip archive.zip -d archive"
   ]
  },
  {
   "cell_type": "code",
   "execution_count": 80,
   "metadata": {},
   "outputs": [],
   "source": [
    "import os\n",
    "import langchain\n",
    "from langchain.prompts import PromptTemplate\n",
    "from langchain_google_genai import ChatGoogleGenerativeAI,GoogleGenerativeAI\n",
    "\n",
    "from langchain.document_loaders import DirectoryLoader, TextLoader\n",
    "import matplotlib.pyplot as plt\n",
    "from langchain import hub\n",
    "from sentence_transformers import SentenceTransformer\n",
    "from langchain_chroma import Chroma\n",
    "from langchain_text_splitters import RecursiveCharacterTextSplitter\n",
    "from langchain_core.output_parsers import StrOutputParser\n",
    "from langchain_core.runnables import RunnablePassthrough\n",
    "from dotenv import load_dotenv"
   ]
  },
  {
   "cell_type": "code",
   "execution_count": 77,
   "metadata": {},
   "outputs": [
    {
     "data": {
      "text/html": [
       "<style>.container { width:100% !important; } .code_cell pre { white-space: pre-wrap; }</style>"
      ],
      "text/plain": [
       "<IPython.core.display.HTML object>"
      ]
     },
     "metadata": {},
     "output_type": "display_data"
    }
   ],
   "source": [
    "from IPython.display import display, HTML\n",
    "\n",
    "display(HTML(\"<style>.container { width:100% !important; } .code_cell pre { white-space: pre-wrap; }</style>\"))\n"
   ]
  },
  {
   "cell_type": "code",
   "execution_count": 72,
   "metadata": {},
   "outputs": [],
   "source": [
    "load_dotenv()\n",
    "API_KEY=os.getenv('API_KEY')"
   ]
  },
  {
   "cell_type": "code",
   "execution_count": 34,
   "metadata": {},
   "outputs": [],
   "source": [
    "\n",
    "loader = DirectoryLoader(f'{os.getcwd()}/archive/Culture/', loader_cls=TextLoader,loader_kwargs={'encoding':'utf-8'})\n",
    "# Load all documents from the directory\n",
    "documents = loader.load()"
   ]
  },
  {
   "cell_type": "code",
   "execution_count": 36,
   "metadata": {},
   "outputs": [
    {
     "data": {
      "text/plain": [
       "'ينظم معهد الشارقة للفنون معرضاً فنياً تحت عنوان باقة الفن، وذلك عند الساعة السابعة من مساء اليوم في مقر المعهد في منطقة الفنون في حي الشويهين في الشارقة، وتتلاقى في المعرض إبداعات 62 طالباً من المنتسبين للدراسة في المعهد في كافة التخصصات الفنية .'"
      ]
     },
     "execution_count": 36,
     "metadata": {},
     "output_type": "execute_result"
    }
   ],
   "source": [
    "documents[0].page_content"
   ]
  },
  {
   "cell_type": "code",
   "execution_count": 55,
   "metadata": {},
   "outputs": [],
   "source": [
    "class Embedding:\n",
    "  def __init__(self):\n",
    "    self.model = SentenceTransformer('sentence-transformers/paraphrase-multilingual-MiniLM-L12-v2')\n",
    "  def embed_documents(self,text):\n",
    "    return self.model.encode(text).tolist()\n",
    "  def embed_query(self,query):\n",
    "    return self.model.encode(query).tolist()"
   ]
  },
  {
   "cell_type": "code",
   "execution_count": 147,
   "metadata": {},
   "outputs": [
    {
     "data": {
      "text/plain": [
       "[]"
      ]
     },
     "execution_count": 147,
     "metadata": {},
     "output_type": "execute_result"
    }
   ],
   "source": [
    "from langchain_chroma import Chroma\n",
    "ahmed = Chroma(persist_directory='./vector_datastore/',embedding_function=Embedding())\n",
    "ahmed_retriver = ahmed.as_retriever(search_type='similarity',search_kwargs={'k':2})\n",
    "ahmed_retriver.invoke('الشارقة للفنون')"
   ]
  },
  {
   "cell_type": "code",
   "execution_count": 38,
   "metadata": {},
   "outputs": [],
   "source": [
    "splitter = RecursiveCharacterTextSplitter(chunk_size=1500,chunk_overlap=150, add_start_index=True)\n",
    "all_splitts = splitter.split_documents(documents)"
   ]
  },
  {
   "cell_type": "code",
   "execution_count": 126,
   "metadata": {},
   "outputs": [
    {
     "name": "stderr",
     "output_type": "stream",
     "text": [
      "d:\\projects\\electropi\\ML\\lib\\site-packages\\transformers\\tokenization_utils_base.py:1601: FutureWarning: `clean_up_tokenization_spaces` was not set. It will be set to `True` by default. This behavior will be depracted in transformers v4.45, and will be then set to `False` by default. For more details check this issue: https://github.com/huggingface/transformers/issues/31884\n",
      "  warnings.warn(\n"
     ]
    }
   ],
   "source": [
    "embedding = Chroma(persist_directory='./vector_datastore').from_documents(embedding=Embedding(),documents=all_splitts)"
   ]
  },
  {
   "cell_type": "code",
   "execution_count": 58,
   "metadata": {},
   "outputs": [],
   "source": [
    "retriever = embedding.as_retriever(search_type='similarity',search_kwargs={'k':2})"
   ]
  },
  {
   "cell_type": "code",
   "execution_count": 116,
   "metadata": {},
   "outputs": [
    {
     "data": {
      "text/plain": [
       "[Document(metadata={'source': 'd:\\\\projects\\\\electropi\\\\RAG\\\\archive\\\\Culture\\\\0218.txt', 'start_index': 0}, page_content='ينظم معهد الشارقة للفنون التابع لإدارة الفنون في دائرة الثقافة والإعلام في الشارقة معرضاً فنياً بعنوان ارتقاء ويضم مجموعة من أعمال التصوير المائي والزيتي للفنانين أحمد ضميرية وفارس طباع، وذلك عند السابعة من مساء اليوم .'),\n",
       " Document(metadata={'source': 'd:\\\\projects\\\\electropi\\\\RAG\\\\archive\\\\Culture\\\\0235.txt', 'start_index': 1354}, page_content='وإطلاق العديد من المشاريع الفنية المتميزة، ونوهت كذلك بالمناخ التعليمي ودور المغفور له بإذن الله الشيخ زايد بن سلطان آل نهيان، رحمه الله، بتشجيع الفن والفنانين، وإصراره دائماً على أن تكون كليات الفنون ضمن الجامعات التي أنشأت لخلق جيل مبدع متميز، قادر على تسجيل تراث البلد وقادر على رسم مجتمعها وأفرادها وإنجازاتها وكذلك جيل مقبل على الفن وعلومه بشتى أنواعها.وقالت د. القباني «يشكل هذا المهرجان دليلاً إضافياً على اهتمام الإمارات العربية بالفن والفنون، وحرصها الأكيد على استمرار دعم الحركة الفنية العربية، ورعايتها من خلال استضافة التشكيليين العرب، ودعوتهم لإقامة مهرجاناتهم في الإمارات».ووصف د. ثامر الناصري مناسبة يوم العلم بالمناسبة العزيزة التي يحتفل بها الإماراتيون والعرب، لما تمثله من رمزية وطنية، ونوه بالمشاركة العربية للتشكيليين العرب في هذه المناسبة حيث من المتوقع أن يسهموا في رسم جدارية بأبعاد 15 متراً طولاً و12 عرضاً، لتدخل موسوعة جينيس للأرقام القياسية، يبدع من خلالها الفنانون رؤيتهم لهذه المناسبة الكبيرة. في السياق ذاته أشار الناصري لمؤسسة وطني الإمارات والدور الكبير والناجح لتنظيم هذا المهرجان، الذي ترعاه المؤسسة معنويا بكل إمكاناتها اللوجستية كي يبقى في مصاف المهرجانات الدولية التي تحققت عبر سنين طويلة. وقال الناصري «لقد اختار المهرجان وبعناية كبيرة الخريطة التي يسير عليها لتأسيس منظومة إبداعية من خلال اختياره لنخب من الفنانين الشباب والمخضرمين، لكي تنصهر في هذه المناسبة إمكانات وثقافات بلدانهم، لتحقيق أعلى مرتبة من حيث النتاج التشكيلي المتميز»، وأضاف بأن الفن التشكيلي يعتبر أحد الجوانب المهمة للتراث الحضاري الذي تعتز به أي أمة، لما يقدمه من صور أصيلة، ونظراً لأهميته')]"
      ]
     },
     "execution_count": 116,
     "metadata": {},
     "output_type": "execute_result"
    }
   ],
   "source": [
    "retriever.invoke('الشارقة للفنون')"
   ]
  },
  {
   "cell_type": "code",
   "execution_count": 110,
   "metadata": {},
   "outputs": [],
   "source": [
    "def format_docs(docs):\n",
    "    return \"\\n\\n\".join(doc.page_content for doc in docs)"
   ]
  },
  {
   "cell_type": "code",
   "execution_count": 74,
   "metadata": {},
   "outputs": [],
   "source": [
    "model = GoogleGenerativeAI(google_api_key=API_KEY,model='gemini-1.5-flash')"
   ]
  },
  {
   "cell_type": "code",
   "execution_count": 106,
   "metadata": {},
   "outputs": [
    {
     "data": {
      "text/plain": [
       "ChatPromptTemplate(input_variables=['context', 'question'], metadata={'lc_hub_owner': 'rlm', 'lc_hub_repo': 'rag-prompt', 'lc_hub_commit_hash': '50442af133e61576e74536c6556cefe1fac147cad032f4377b60c436e6cdcb6e'}, messages=[HumanMessagePromptTemplate(prompt=PromptTemplate(input_variables=['context', 'question'], template=\"You are an assistant for question-answering tasks. Use the following pieces of retrieved context to answer the question. If you don't know the answer, just say that you don't know. Use three sentences maximum and keep the answer concise.\\nQuestion: {question} \\nContext: {context} \\nAnswer:\"))])"
      ]
     },
     "execution_count": 106,
     "metadata": {},
     "output_type": "execute_result"
    }
   ],
   "source": [
    "prompt = hub.pull(\"rlm/rag-prompt\",api_key=API_KEY) \n",
    "prompt"
   ]
  },
  {
   "cell_type": "code",
   "execution_count": 113,
   "metadata": {},
   "outputs": [],
   "source": [
    "template = '''\n",
    "    انت مساعدي في الذكاء الاصطناعي سأعطيك بعض الأسئلة و بناء على المعلومات التي لديك قم بالاجابه \n",
    "    السؤال : {question}\n",
    "    السياق : {context}\n",
    "    الإجابه : \n",
    "'''\n",
    "prompt = PromptTemplate(template=template,input_variables=['question','context'])"
   ]
  },
  {
   "cell_type": "code",
   "execution_count": 114,
   "metadata": {},
   "outputs": [],
   "source": [
    "rag_chain = (\n",
    "    {\"context\": retriever | format_docs, \"question\": RunnablePassthrough()}\n",
    "    | prompt\n",
    "    | model\n",
    "    | StrOutputParser()\n",
    ")"
   ]
  },
  {
   "cell_type": "code",
   "execution_count": 117,
   "metadata": {},
   "outputs": [
    {
     "name": "stdout",
     "output_type": "stream",
     "text": [
      "2\n"
     ]
    },
    {
     "data": {
      "text/plain": [
       "'ينظم معهد الشارقة للفنون **معرضين فنيين**:\\n\\n* **معرض \"باقة الفن\"**: يضم أعمال 62 طالباً من المنتسبين للدراسة في المعهد في كافة التخصصات الفنية.\\n* **معرض \"ارتقاء\"**: يضم أعمال التصوير المائي والزيتي للفنانين أحمد ضميرية وفارس طباع. \\n'"
      ]
     },
     "execution_count": 117,
     "metadata": {},
     "output_type": "execute_result"
    }
   ],
   "source": [
    "rag_chain.invoke('ماذا ينظم معهد الشارقة للفنون')"
   ]
  }
 ],
 "metadata": {
  "kernelspec": {
   "display_name": "ML",
   "language": "python",
   "name": "python3"
  },
  "language_info": {
   "codemirror_mode": {
    "name": "ipython",
    "version": 3
   },
   "file_extension": ".py",
   "mimetype": "text/x-python",
   "name": "python",
   "nbconvert_exporter": "python",
   "pygments_lexer": "ipython3",
   "version": "3.10.5"
  }
 },
 "nbformat": 4,
 "nbformat_minor": 2
}
